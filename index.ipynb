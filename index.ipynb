
{
 "cells": [
  {
   "cell_type": "markdown",
   "metadata": {},
   
   "source": [
    "# BioProviders: Simplifying Access to Bioinformatic Datasets\n",
    "\n",
    "The BioProviders package provides tools and functionality to simplify accessing and manipulating bioinformatic data.\n",
    "The [.NET Bio](https://github.com/dotnetbio/bio) and [BioFSharp](https://github.com/CSBiology/BioFSharp) libraries\n",
    "are used to parse and format the data provided by this package.\n",
    "\n",
    "BioProviders is available through [NuGet](https://nuget.org/packages/BioProviders).\n",
    "[![NuGet Status](//img.shields.io/nuget/v/BioProviders.svg?style=flat)](https://www.nuget.org/packages/BioProviders/)\n",
    "\n",
    "## Type Providers\n",
    "\n"
   ]
  }
,
  {
   "cell_type": "code",
   "metadata": {
    "dotnet_interactive": {
     "language": "fsharp"
    },
    "polyglot_notebook": {
     "kernelName": "fsharp"
    }
   },
   "execution_count": null, "outputs": [],
   "source": [
    "\u003cdiv class=\"container-fluid\" style=\"margin:15px 0px 15px 0px;\"\u003e\n",
    "    \u003cdiv class=\"row-fluid\"\u003e\n",
    "        \u003cdiv class=\"span1\"\u003e\u003c/div\u003e\n",
    "        \u003cdiv class=\"span10\" id=\"anim-holder\"\u003e\n",
    "            \u003ca id=\"lnk\" href=\"img/GenBankProvider.gif\"\u003e\u003cimg id=\"anim\" src=\"img/GenBankProvider.gif\" /\u003e\u003c/a\u003e\n",
    "        \u003c/div\u003e\n",
    "        \u003cdiv class=\"span1\"\u003e\u003c/div\u003e\n",
    "    \u003c/div\u003e\n",
    "\u003c/div\u003e\n"
   ]
  }
,
  {
   "cell_type": "markdown",
   "metadata": {},
   
   "source": [
    "BioProviders implements Type Providers for accessing bioinformatic datasets. These Type Providers allow remote access\n",
    "to data sources (e.g., GenBank) and type-safe representations of their data (e.g., GenBank Flat File).\n",
    "\n",
    "* [GenBank Type Provider](library/GenBankProvider.html) - access to GenBank data using the `GenBankProvider\u003c..\u003e` type.\n",
    "\n",
    "* [RefSeq Type Provider](library/RefSeqProvider.html) - access to RefSeq data using the `RefSeqProvider\u003c..\u003e` type.\n",
    "\n",
    "## Contributing and Copyright\n",
    "\n",
    "The project is hosted on [GitHub](https://github.com/AlexKenna/BioProviders) where you can\n",
    "[report issues](https://github.com/AlexKenna/BioProviders/issues), fork the project and submit pull requests.\n",
    "\n",
    "The library is available under the OSI-approved MIT license. For more information see the\n",
    "[License file](https://github.com/AlexKenna/BioProviders/blob/main/LICENSE.md) in the GitHub repository.\n",
    "\n"
   ]
  }
 ],
 "metadata": {
  "kernelspec": {
   "display_name": ".NET (F#)",
   "language": "F#",
   "name": ".net-fsharp"
  },
  "language_info": {
   "file_extension": ".fs",
   "mimetype": "text/x-fsharp",
   "name": "polyglot-notebook",
   "pygments_lexer": "fsharp"
  },
  "polyglot_notebook": {
   "kernelInfo": {
    "defaultKernelName": "fsharp",
    "items": [
     {
      "aliases": [],
      "languageName": "fsharp",
      "name": "fsharp"
     }
    ]
   }
  }
 },
 "nbformat": 4,
 "nbformat_minor": 2
}

