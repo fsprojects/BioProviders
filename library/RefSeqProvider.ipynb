
{
 "cells": [
  {
   "cell_type": "markdown",
   "metadata": {},
   
   "source": [
    "[![Script](../img/badge-script.svg)](https://fsprojects.github.io/BioProviders//library/RefSeqProvider.fsx)\u0026emsp;\n",
    "[![Notebook](../img/badge-notebook.svg)](https://fsprojects.github.io/BioProviders//library/RefSeqProvider.ipynb)\n",
    "\n",
    "# RefSeq Type Provider\n",
    "\n",
    "This article describes how to use the RefSeq Type Provider to remotely access genomic data stored in the\n",
    "[RefSeq](https://www.ncbi.nlm.nih.gov/genbank/) database. This Type Provider collects and parses the genomic data\n",
    "for a specified organism and generates a static type containing its metadata and sequence.\n",
    "\n",
    "The RefSeq Type Provider uses [.NET Bio](https://github.com/dotnetbio/bio) to parse the RefSeq data files\n",
    "and [BioFSharp](https://github.com/CSBiology/BioFSharp) to provide utilities for manipulating genomic sequences.\n",
    "\n",
    "## Loading BioProviders Package\n",
    "\n",
    "To load the RefSeq Type Provider, a script can use the NuGet syntax to reference the BioProviders package, shown below.\n",
    "\n",
    "You can optionally include the BioFSharp package. While it\u0027s not required to use the basic BioProviders functions, it can be used to explore the metadata of the provided types, as shown in a later example.\n",
    "\n"
   ]
  }
,
  {
   "cell_type": "code",
   "metadata": {
    "dotnet_interactive": {
     "language": "fsharp"
    },
    "polyglot_notebook": {
     "kernelName": "fsharp"
    }
   },
   "execution_count": 1, "outputs": [],
   "source": [
    "#r \"nuget: BioProviders\"\n",
    "#r \"nuget: BioFSharp\"\n"
   ]
  }
,
  {
   "cell_type": "markdown",
   "metadata": {},
   
   "source": [
    "If creating an F# library or application, BioProviders can be added as a package reference. You can use your IDE for this, or use the `dotnet add package BioProviders` command in your project folder from the command line.\n",
    "\n",
    "BioProviders can then be used in your script or code by using an open command. Opening its dependencies should not be required. (BioFSharp is loaded for future examples.)\n",
    "\n"
   ]
  }
,
  {
   "cell_type": "code",
   "metadata": {
    "dotnet_interactive": {
     "language": "fsharp"
    },
    "polyglot_notebook": {
     "kernelName": "fsharp"
    }
   },
   "execution_count": 2, "outputs": [],
   "source": [
    "open BioProviders\n",
    "open BioFSharp\n"
   ]
  }
,
  {
   "cell_type": "markdown",
   "metadata": {},
   
   "source": [
    "## RefSeqProvider Example\n",
    "\n",
    "The RefSeq Type Provider will be demonstrated for [this RefSeq assembly](https://www.ncbi.nlm.nih.gov/datasets/genome/GCF_001224225.1/)\n",
    "of the **Staphylococcus borealis** species. To create a typed representation of the assembly, two pieces of information\n",
    "must be given to the Type Provider:\n",
    "\n",
    "* Species name\n",
    "\n",
    "* RefSeq assembly accession\n",
    "\n",
    "For this example, the species name is \"Staphylococcus borealis\" and the RefSeq assembly accession is \"GCF_001224225.1\".\n",
    "To find this information:\n",
    "\n",
    "* Visit [https://www.ncbi.nlm.nih.gov/datasets/](https://www.ncbi.nlm.nih.gov/datasets/)\n",
    "\n",
    "* Search for the name of the species\n",
    "\n",
    "* Select to view all genones of the species\n",
    "\n",
    "You can then select the assembly\u0027s RefSeq (as well as GenBank) accession from the list that appears.\n",
    "\n",
    "![Animation of findng a RefSeq assembly accession on NCBI.](../img/RefSeq_Info.gif).\n",
    "\n",
    "Passing this information to the Type Provider generates the Assembly Type. The genomic data can then be extracted from the\n",
    "Assembly Type by invoking the Genome method. This is demonstrated below.\n",
    "\n"
   ]
  }
,
  {
   "cell_type": "code",
   "metadata": {
    "dotnet_interactive": {
     "language": "fsharp"
    },
    "polyglot_notebook": {
     "kernelName": "fsharp"
    }
   },
   "execution_count": 3, "outputs": [],
   "source": [
    "// Define species name and RefSeq assembly accession.\n",
    "let [\u003cLiteral\u003e] Species = \"Staphylococcus borealis\"\n",
    "let [\u003cLiteral\u003e] Accession = \"GCF_001224225.1\"\n",
    "\n",
    "// Create RefSeq assembly type.\n",
    "type Borealis = RefSeqProvider\u003cSpecies, Accession\u003e\n",
    "\n",
    "// Extract statically-typed genome data.\n",
    "let genome = Borealis.Genome()\n"
   ]
  }
,
  {
   "cell_type": "markdown",
   "metadata": {},
   
   "source": [
    "### Metadata\n",
    "\n",
    "Each genome is accompanied by metadata describing the organism and sequence recorded in the assembly. This metadata can\n",
    "be extracted using the Metadata field of the Genome Type created previously. The Metadata type is largely based on that\n",
    "provided by [.NET Bio](http://dotnetbio.github.io/Help/html/319bf2e6-4fcf-9f93-586f-fc7ffcf04a83.htm), with modifications\n",
    "made to be more idiomatic with F#.\n",
    "\n",
    "Below is an example of how the raw metadata type can be retrieved and displayed:\n",
    "\n"
   ]
  }
,
  {
   "cell_type": "code",
   "metadata": {
    "dotnet_interactive": {
     "language": "fsharp"
    },
    "polyglot_notebook": {
     "kernelName": "fsharp"
    }
   },
   "execution_count": 4, "outputs": [
          {
           "data": {
            "text/plain": ["{ Locus = Some { Date = Some 4/27/2023 12:00:00 AM",
"                 DivisionCode = Some CON",
"                 MoleculeType = Some DNA",
"                 Name = Some \"NZ_CUEE01000001\"",
"                 SequenceLength = 563044",
"                 SequenceType = Some \"bp\"",
"                 Strand = None",
"                 StrandTopology = Some Linear }",
"  Definition =",
"   Some \"Staphylococcus borealis strain 51-48, whole genome shotgun sequence.\"",
"  Accession = Some { Primary = Some \"NZ_CUEE01000001\"",
"                     Secondary = Some [\"NZ_CUEE01000000\"] }",
"  Version = Some { Accession = Some \"NZ_CUEE01000001\"",
"                   CompoundAccession = Some \"NZ_CUEE01000001.1\"",
"                   GiNumber = None",
"                   Version = Some \"1\" }",
"  DbLinks =",
"   Some",
"     [{ Numbers = Some [\" PRJNA224116\"]",
"        Type = Some BioProject }; { Numbers = Some [\" SAMEA1035138\"]",
"                                    Type = None };",
"      { Numbers = Some [\" GCF_001224225.1\"]",
"        Type = None }]",
"  DbSource = None",
"  Keywords = Some \"WGS; RefSeq.\"",
"  Primary = None",
"  Source =",
"   Some",
"     { CommonName = Some \"Staphylococcus borealis\"",
"       Organism =",
"        Some",
"          { ClassLevels =",
"             Some",
"               \"Bacteria; Bacillota; Bacilli; Bacillales; Staphylococcaceae; Staphylococcus.\"",
"            Genus = Some \"Staphylococcus\"",
"            Species = Some \"borealis\" } }",
"  References =",
"   Some",
"     [{ Authors = Some \"Informatics,Pathogen.\"",
"        Consortiums = None",
"        Journal =",
"         Some",
"           \"Submitted (10-MAR-2015) SC, Wellcome Trust Sanger Institute, CB10 1SA, United Kingdom\"",
"        Location = None",
"        Medline = None",
"        Number = 1",
"        PubMed = None",
"        Remarks = None",
"        Title = Some \"Direct Submission\" }]",
"  Comments =",
"   Some",
"     [\"REFSEQ INFORMATION: The reference sequence is identical to",
"",
"CUEE01000001.1.",
"",
"The annotation was added by the NCBI Prokaryotic Genome Annotation",
"",
"Pipeline (PGAP). Information about PGAP can be found here:",
"",
"https://www.ncbi.nlm.nih.gov/genome/annotation_prok/",
"",
"",
"",
"##Genome-Annotation-Data-START##",
"",
"Annotation Provider               :: NCBI RefSeq",
"",
"Annotation Date                   :: 04/27/2023 01:28:26",
"",
"Annotation Pipeline               :: NCBI Prokaryotic Genome",
"",
"Annotation Pipeline (PGAP)",
"",
"Annotation Method                 :: Best-placed reference protein",
"",
"set; GeneMarkS-2+",
"",
"Annotation Software revision      :: 6.5",
"",
"Features Annotated                :: Gene; CDS; rRNA; tRNA; ncRNA",
"",
"Genes (total)                     :: 2,650",
"",
"CDSs (total)                      :: 2,584",
"",
"Genes (coding)                    :: 2,507",
"",
"CDSs (with protein)               :: 2,507",
"",
"Genes (RNA)                       :: 66",
"",
"rRNAs                             :: 2, 1, 1 (5S, 16S, 23S)",
"",
"complete rRNAs                    :: 2, 1, 1 (5S, 16S, 23S)",
"",
"tRNAs                             :: 58",
"",
"ncRNAs                            :: 4",
"",
"Pseudo Genes (total)              :: 77",
"",
"CDSs (without protein)            :: 77",
"",
"Pseudo Genes (ambiguous residues) :: 0 of 77",
"",
"Pseudo Genes (frameshifted)       :: 29 of 77",
"",
"Pseudo Genes (incomplete)         :: 49 of 77",
"",
"Pseudo Genes (internal stop)      :: 29 of 77",
"",
"Pseudo Genes (multiple problems)  :: 23 of 77",
"",
"##Genome-Annotation-Data-END##\"]",
"  Contig = Some \"join(CUEE01000001.1:1..563044)\"",
"  Segment = None",
"  Origin = None }"]
        },
           "execution_count": 4,
           "metadata": {},
           "output_type": "execute_result"
          }],
   "source": [
    "// Extract the metadata.\n",
    "let metadata = genome.Metadata\n",
    "\n",
    "// Display the metadata type.\n",
    "printf \"%A\" metadata\n"
   ]
  }
,
  {
   "cell_type": "markdown",
   "metadata": {},
   
   "source": [
    "The metadata type consists of many fields, though not all fields of the metadata exist for all assemblies. Therefore, they are provided as option types, on which a match expression can be used. Below are examples of accessing fields from the example assembly.\n",
    "✅ Example - Accessing a field that is provided.\n",
    "\n"
   ]
  }
,
  {
   "cell_type": "code",
   "metadata": {
    "dotnet_interactive": {
     "language": "fsharp"
    },
    "polyglot_notebook": {
     "kernelName": "fsharp"
    }
   },
   "execution_count": 5, "outputs": [
          {
           "data": {
            "text/plain": ["Staphylococcus borealis strain 51-48, whole genome shotgun sequence."]
        },
           "execution_count": 5,
           "metadata": {},
           "output_type": "execute_result"
          }],
   "source": [
    "// Print definition if exists.\n",
    "match metadata.Definition with\n",
    "| Some definition -\u003e printf \"%s\" definition\n",
    "| None -\u003e printf \"No definition provided.\"\n"
   ]
  }
,
  {
   "cell_type": "markdown",
   "metadata": {},
   
   "source": [
    "❌ Example - Accessing a field that is not provided.\n",
    "\n"
   ]
  }
,
  {
   "cell_type": "code",
   "metadata": {
    "dotnet_interactive": {
     "language": "fsharp"
    },
    "polyglot_notebook": {
     "kernelName": "fsharp"
    }
   },
   "execution_count": 6, "outputs": [
          {
           "data": {
            "text/plain": ["No database source provided."]
        },
           "execution_count": 6,
           "metadata": {},
           "output_type": "execute_result"
          }],
   "source": [
    "// Print database source if exists.\n",
    "match metadata.DbSource with\n",
    "| Some dbsource -\u003e printf \"%s\" dbsource\n",
    "| None -\u003e printf \"No database source provided.\"\n"
   ]
  }
,
  {
   "cell_type": "markdown",
   "metadata": {},
   
   "source": [
    "### Sequence\n",
    "\n",
    "The genomic sequence for the organism can be extracted using the Sequence field of the Genome Type created previously.\n",
    "This field provides a BioFSharp [BioSeq](https://csbiology.github.io/BioFSharp/reference/biofsharp-bioseq.html) containing\n",
    "a series of [Nucleotides](https://csbiology.github.io/BioFSharp//reference/biofsharp-nucleotides-nucleotide.html). More\n",
    "can be read about BioFSharp containers [here](https://csbiology.github.io/BioFSharp//BioCollections.html).\n",
    "\n",
    "An example of accessing and manipulating the RefSeqProvider genomic sequence using BioFSharp is provided below:\n",
    "\n"
   ]
  }
,
  {
   "cell_type": "code",
   "metadata": {
    "dotnet_interactive": {
     "language": "fsharp"
    },
    "polyglot_notebook": {
     "kernelName": "fsharp"
    }
   },
   "execution_count": 7, "outputs": [
          {
           "data": {
            "text/plain": ["seq [C; A; G; G; ...]"]
        },
           "execution_count": 7,
           "metadata": {},
           "output_type": "execute_result"
          }],
   "source": [
    "// Extract the BioFSharp BioSeq.\n",
    "let sequence = genome.Sequence\n",
    "\n",
    "// Display the sequence type.\n",
    "printf \"%A\" sequence\n"
   ]
  }
,
  {
   "cell_type": "code",
   "metadata": {
    "dotnet_interactive": {
     "language": "fsharp"
    },
    "polyglot_notebook": {
     "kernelName": "fsharp"
    }
   },
   "execution_count": 8, "outputs": [
          {
           "data": {
            "text/plain": ["seq [Val; Leu; Val; Ter; ...]"]
        },
           "execution_count": 8,
           "metadata": {},
           "output_type": "execute_result"
          }],
   "source": [
    "// Take the complement, then transcribe and translate the coding strand.\n",
    "sequence\n",
    "|\u003e BioSeq.complement\n",
    "|\u003e BioSeq.transcribeCodingStrand\n",
    "|\u003e BioSeq.translate 0\n"
   ]
  }
,
  {
   "cell_type": "markdown",
   "metadata": {},
   
   "source": [
    "## Wildcard Operators\n",
    "\n",
    "Wildcard operators are supported in both the Species and Accession provided to the RefSeqProvider. By using asterisks \"*\"\n",
    "at the end of a Species or Accession name, species or accessions starting with the provided pattern will be matched.\n",
    "\n",
    "For example, we can get all **Staphylococcus** species starting with the letter \u0027c\u0027 and assembly accesions starting with\n",
    "\u0027GCF_01\u0027:\n",
    "\n"
   ]
  }
,
  {
   "cell_type": "code",
   "metadata": {
    "dotnet_interactive": {
     "language": "fsharp"
    },
    "polyglot_notebook": {
     "kernelName": "fsharp"
    }
   },
   "execution_count": 9, "outputs": [
          {
           "data": {
            "text/plain": ["Staphylococcus capitis strain 18-857 NODE_1, whole genome shotgun sequence."]
        },
           "execution_count": 9,
           "metadata": {},
           "output_type": "execute_result"
          }],
   "source": [
    "// Define species name and RefSeq assembly accession using wildcards.\n",
    "let [\u003cLiteral\u003e] SpeciesPattern = \"Staphylococcus c*\"\n",
    "let [\u003cLiteral\u003e] AccessionPattern = \"GCF_01*\"\n",
    "\n",
    "// Create RefSeq type containing all species matching the species pattern.\n",
    "type SpeciesCollection = RefSeqProvider\u003cSpeciesPattern, AccessionPattern\u003e\n",
    "\n",
    "// Select the species types.\n",
    "type Capitis = SpeciesCollection.``Staphylococcus capitis``\n",
    "type Cohnii = SpeciesCollection.``Staphylococcus cohnii``\n",
    "\n",
    "// Select assemblies.\n",
    "type Assembly1 = Capitis.``GCF_012926605.1``\n",
    "type Assembly2 = Capitis.``GCF_012926635.1``\n",
    "type Assembly3 = Cohnii.``GCF_013602215.1``\n",
    "type Assembly4 = Cohnii.``GCF_013602265.1``\n",
    "\n",
    "// Extract statically-typed genome data.\n",
    "let data = Assembly1.Genome()\n",
    "\n",
    "// Show the assembly\u0027s definition.\n",
    "match data.Metadata.Definition with\n",
    "| Some definition -\u003e printf \"%s\" definition\n",
    "| None -\u003e printf \"No definition provided.\"\n"
   ]
  }
,
  {
   "cell_type": "markdown",
   "metadata": {},
   
   "source": [
    "The Accession parameter can also be omitted from the RefSeqProvider. In this case, all assemblies for the given species will\n",
    "be matched. For example:\n",
    "\n"
   ]
  }
,
  {
   "cell_type": "code",
   "metadata": {
    "dotnet_interactive": {
     "language": "fsharp"
    },
    "polyglot_notebook": {
     "kernelName": "fsharp"
    }
   },
   "execution_count": 10, "outputs": [
          {
           "data": {
            "text/plain": ["NZ_KQ957361"]
        },
           "execution_count": 10,
           "metadata": {},
           "output_type": "execute_result"
          }],
   "source": [
    "// Define species name.\n",
    "let [\u003cLiteral\u003e] SpeciesName = \"Staphylococcus lugdunensis\"\n",
    "\n",
    "// Create RefSeq type containing all assemblies for the species.\n",
    "type Assemblies = RefSeqProvider\u003cSpeciesName\u003e\n",
    "\n",
    "// Select assemblies.\n",
    "type Assembly = Assemblies.``GCF_001546615.1``\n",
    "\n",
    "// Show the assembly\u0027s primary accession.\n",
    "match (Assembly.Genome()).Metadata.Accession with\n",
    "| Some accession -\u003e match accession.Primary with\n",
    "                    | Some primary -\u003e printf \"%s\" primary\n",
    "                    | None -\u003e printf \"No primary accession provided.\"\n",
    "| None -\u003e printf \"No accession provided.\"\n"
   ]
  }
 ],
 "metadata": {
  "kernelspec": {
   "display_name": ".NET (F#)",
   "language": "F#",
   "name": ".net-fsharp"
  },
  "language_info": {
   "file_extension": ".fs",
   "mimetype": "text/x-fsharp",
   "name": "polyglot-notebook",
   "pygments_lexer": "fsharp"
  },
  "polyglot_notebook": {
   "kernelInfo": {
    "defaultKernelName": "fsharp",
    "items": [
     {
      "aliases": [],
      "languageName": "fsharp",
      "name": "fsharp"
     }
    ]
   }
  }
 },
 "nbformat": 4,
 "nbformat_minor": 2
}

