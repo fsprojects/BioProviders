
{
 "cells": [
  {
   "cell_type": "markdown",
   "metadata": {},
   
   "source": [
    "[![Script](../img/badge-script.svg)](https://fsprojects.github.io/BioProviders//library/GenBankProvider.fsx)\u0026emsp;\n",
    "[![Notebook](../img/badge-notebook.svg)](https://fsprojects.github.io/BioProviders//library/GenBankProvider.ipynb)\n",
    "\n",
    "# GenBank Type Provider\n",
    "\n",
    "This article describes how to use the GenBank Type Provider to remotely access genomic data stored in the\n",
    "[GenBank](https://www.ncbi.nlm.nih.gov/genbank/) database. This Type Provider collects and parses the genomic data\n",
    "for a specified organism and generates a static type containing its metadata and sequence.\n",
    "\n",
    "The GenBank Type Provider uses [.NET Bio](https://github.com/dotnetbio/bio) to parse the GenBank data files\n",
    "and [BioFSharp](https://github.com/CSBiology/BioFSharp) to provide utilities for manipulating genomic sequences.\n",
    "\n",
    "## Loading BioProviders Package\n",
    "\n",
    "To load the GenBank Type Provider, a script can use the NuGet syntax to reference the BioProviders package, shown below.\n",
    "\n",
    "You can optionally include the BioFSharp package. While it\u0027s not required to use the basic BioProviders functions, it can be used to explore the metadata of the provided types, as shown in a later example.\n",
    "\n"
   ]
  }
,
  {
   "cell_type": "code",
   "metadata": {
    "dotnet_interactive": {
     "language": "fsharp"
    },
    "polyglot_notebook": {
     "kernelName": "fsharp"
    }
   },
   "execution_count": 1, "outputs": [],
   "source": [
    "#r \"nuget: BioProviders\"\n",
    "#r \"nuget: BioFSharp\"\n"
   ]
  }
,
  {
   "cell_type": "markdown",
   "metadata": {},
   
   "source": [
    "If creating an F# library or application, BioProviders can be added as a package reference. You can use your IDE for this, or use the `dotnet add package BioProviders` command in your project folder from the command line.\n",
    "\n",
    "BioProviders can then be used in your script or code by using an open command. Opening its dependencies should not be required. (BioFSharp is loaded for future examples.)\n",
    "\n"
   ]
  }
,
  {
   "cell_type": "code",
   "metadata": {
    "dotnet_interactive": {
     "language": "fsharp"
    },
    "polyglot_notebook": {
     "kernelName": "fsharp"
    }
   },
   "execution_count": 2, "outputs": [],
   "source": [
    "open BioProviders\n",
    "open BioFSharp\n"
   ]
  }
,
  {
   "cell_type": "markdown",
   "metadata": {},
   
   "source": [
    "## GenBankProvider Example\n",
    "\n",
    "The GenBank Type Provider will be demonstrated for [this GenBank assembly](https://www.ncbi.nlm.nih.gov/nuccore/CP012411)\n",
    "of the **Candidatus Carsonella ruddii** species. To create a typed representation of the assembly, two pieces of information\n",
    "must be given to the Type Provider:\n",
    "\n",
    "* Species name\n",
    "\n",
    "* GenBank assembly accession\n",
    "\n",
    "For this example, the species name is \"Candidatus Carsonella ruddii\" and the GenBank assembly accession is \"GCA_001274515.1\".\n",
    "To find this information:\n",
    "\n",
    "* Visit [https://www.ncbi.nlm.nih.gov/datasets/](https://www.ncbi.nlm.nih.gov/datasets/)\n",
    "\n",
    "* Search for the name of the species\n",
    "\n",
    "* Select to view all genones of the species\n",
    "\n",
    "You can then select the assembly\u0027s GenBank (as well as RefSeq) accession from the list that appears.\n",
    "\n",
    "![Animation of findng a GenBank assembly accession on NCBI.](../img/GenBank_Info.gif).\n",
    "\n",
    "Passing this information to the Type Provider generates the Assembly Type. The genomic data can then be extracted from the\n",
    "Assembly Type by invoking the Genome method. This is demonstrated below.\n",
    "\n"
   ]
  }
,
  {
   "cell_type": "code",
   "metadata": {
    "dotnet_interactive": {
     "language": "fsharp"
    },
    "polyglot_notebook": {
     "kernelName": "fsharp"
    }
   },
   "execution_count": 3, "outputs": [],
   "source": [
    "// Define species name and GenBank assembly accession.\n",
    "let [\u003cLiteral\u003e] Species = \"Candidatus Carsonella ruddii\"\n",
    "let [\u003cLiteral\u003e] Accession = \"GCA_001274515.1\"\n",
    "\n",
    "// Create GenBank assembly type.\n",
    "type Ruddii = GenBankProvider\u003cSpecies, Accession\u003e\n",
    "\n",
    "// Extract statically-typed genome data.\n",
    "let genome = Ruddii.Genome()\n"
   ]
  }
,
  {
   "cell_type": "markdown",
   "metadata": {},
   
   "source": [
    "### Metadata\n",
    "\n",
    "Each genome is accompanied by metadata describing the organism and sequence recorded in the assembly. This metadata can\n",
    "be extracted using the Metadata field of the Genome Type created previously. The Metadata type is largely based on that\n",
    "provided by [.NET Bio](http://dotnetbio.github.io/Help/html/319bf2e6-4fcf-9f93-586f-fc7ffcf04a83.htm), with modifications\n",
    "made to be more idiomatic with F#.\n",
    "\n",
    "Below is an example of how the raw metadata type can be retrieved and displayed:\n",
    "\n"
   ]
  }
,
  {
   "cell_type": "code",
   "metadata": {
    "dotnet_interactive": {
     "language": "fsharp"
    },
    "polyglot_notebook": {
     "kernelName": "fsharp"
    }
   },
   "execution_count": 4, "outputs": [
          {
           "data": {
            "text/plain": ["{ Locus = Some { Date = Some 8/26/2015 12:00:00 AM",
"                 DivisionCode = Some BCT",
"                 MoleculeType = Some DNA",
"                 Name = Some \"CP012411\"",
"                 SequenceLength = 174018",
"                 SequenceType = Some \"bp\"",
"                 Strand = None",
"                 StrandTopology = Some Circular }",
"  Definition = Some \"Candidatus Carsonella ruddii strain YCCR, complete genome.\"",
"  Accession = Some { Primary = Some \"CP012411\"",
"                     Secondary = None }",
"  Version = Some { Accession = Some \"CP012411\"",
"                   CompoundAccession = Some \"CP012411.1\"",
"                   GiNumber = None",
"                   Version = Some \"1\" }",
"  DbLinks = Some [{ Numbers = Some [\" PRJNA292590\"]",
"                    Type = Some BioProject }; { Numbers = Some [\" SAMN03999419\"]",
"                                                Type = None }]",
"  DbSource = None",
"  Keywords = Some \".\"",
"  Primary = None",
"  Source =",
"   Some",
"     { CommonName = Some \"Candidatus Carsonella ruddii\"",
"       Organism =",
"        Some",
"          { ClassLevels =",
"             Some",
"               \"Bacteria; Pseudomonadota; Gammaproteobacteria; Oceanospirillales; Halomonadaceae; Zymobacter group; Candidatus Carsonella.\"",
"            Genus = Some \"Candidatus Carsonella\"",
"            Species = Some \"Candidatus Carsonella ruddii\" } }",
"  References =",
"   Some",
"     [{ Authors = Some \"Wu,F., Deng,X., Liang,G., Cen,Y. and Chen,J.\"",
"        Consortiums = None",
"        Journal = Some \"Unpublished\"",
"        Location = Some \"bases 1 to 174018\"",
"        Medline = None",
"        Number = 1",
"        PubMed = None",
"        Remarks = None",
"        Title =",
"         Some",
"           \"Whole Genome Sequence of \u0027Candidatus Carsonella ruddii\u0027 from Diaphorina citri in Guangdong, China\" };",
"      { Authors = Some \"Wu,F.\"",
"        Consortiums = None",
"        Journal =",
"         Some",
"           \"Submitted (20-AUG-2015) San Joaquin Valley Agricultural Sciences Center, Usda-Ars, 9611 South Riverbend Avenue, Parlier, CA 93648, USA\"",
"        Location = Some \"bases 1 to 174018\"",
"        Medline = None",
"        Number = 2",
"        PubMed = None",
"        Remarks = None",
"        Title = Some \"Direct Submission\" }]",
"  Comments =",
"   Some",
"     [\"Annotation was added by the NCBI Prokaryotic Genome Annotation",
"",
"Pipeline (released 2013). Information about the Pipeline can be",
"",
"found here: http://www.ncbi.nlm.nih.gov/genome/annotation_prok/",
"",
"",
"",
"##Genome-Assembly-Data-START##",
"",
"Assembly Method       :: CLC Genomics Workbench v. 7.5",
"",
"Genome Coverage       :: 85.24x",
"",
"Sequencing Technology :: Illumina MiSeq",
"",
"##Genome-Assembly-Data-END##",
"",
"",
"",
"##Genome-Annotation-Data-START##",
"",
"Annotation Provider          :: NCBI",
"",
"Annotation Date              :: 08/20/2015 13:42:07",
"",
"Annotation Pipeline          :: NCBI Prokaryotic Genome Annotation",
"",
"Pipeline",
"",
"Annotation Method            :: Best-placed reference protein set;",
"",
"GeneMarkS+",
"",
"Annotation Software revision :: 2.10",
"",
"Features Annotated           :: Gene; CDS; rRNA; tRNA; ncRNA;",
"",
"repeat_region",
"",
"Genes                        :: 224",
"",
"CDS                          :: 168",
"",
"Pseudo Genes                 :: 31",
"",
"rRNAs                        :: 1, 1, 1 (5S, 16S, 23S)",
"",
"complete rRNAs               :: 1, 1, 1 (5S, 16S, 23S)",
"",
"partial rRNAs                ::",
"",
"tRNAs                        :: 22",
"",
"ncRNA                        :: 0",
"",
"Frameshifted Genes           :: 0",
"",
"##Genome-Annotation-Data-END##\"]",
"  Contig = None",
"  Segment = None",
"  Origin = None }"]
        },
           "execution_count": 4,
           "metadata": {},
           "output_type": "execute_result"
          }],
   "source": [
    "// Extract the metadata.\n",
    "let metadata = genome.Metadata\n",
    "\n",
    "// Display the metadata type.\n",
    "printf \"%A\" metadata\n"
   ]
  }
,
  {
   "cell_type": "markdown",
   "metadata": {},
   
   "source": [
    "The metadata type consists of many fields, though not all fields of the metadata exist for all assemblies. Therefore, they are provided as option types, on which a match expression can be used. Below are examples of accessing fields from the example assembly.\n",
    "✅ Example - Accessing a field that is provided.\n",
    "\n"
   ]
  }
,
  {
   "cell_type": "code",
   "metadata": {
    "dotnet_interactive": {
     "language": "fsharp"
    },
    "polyglot_notebook": {
     "kernelName": "fsharp"
    }
   },
   "execution_count": 5, "outputs": [
          {
           "data": {
            "text/plain": ["Candidatus Carsonella ruddii strain YCCR, complete genome."]
        },
           "execution_count": 5,
           "metadata": {},
           "output_type": "execute_result"
          }],
   "source": [
    "// Print definition if exists.\n",
    "match metadata.Definition with\n",
    "| Some definition -\u003e printf \"%s\" definition\n",
    "| None -\u003e printf \"No definition provided.\"\n"
   ]
  }
,
  {
   "cell_type": "markdown",
   "metadata": {},
   
   "source": [
    "❌ Example - Accessing a field that is not provided.\n",
    "\n"
   ]
  }
,
  {
   "cell_type": "code",
   "metadata": {
    "dotnet_interactive": {
     "language": "fsharp"
    },
    "polyglot_notebook": {
     "kernelName": "fsharp"
    }
   },
   "execution_count": 6, "outputs": [
          {
           "data": {
            "text/plain": ["No database source provided."]
        },
           "execution_count": 6,
           "metadata": {},
           "output_type": "execute_result"
          }],
   "source": [
    "// Print database source if exists.\n",
    "match metadata.DbSource with\n",
    "| Some dbsource -\u003e printf \"%s\" dbsource\n",
    "| None -\u003e printf \"No database source provided.\"\n"
   ]
  }
,
  {
   "cell_type": "markdown",
   "metadata": {},
   
   "source": [
    "### Sequence\n",
    "\n",
    "The genomic sequence for the organism can be extracted using the Sequence field of the Genome Type created previously.\n",
    "This field provides a BioFSharp [BioSeq](https://csbiology.github.io/BioFSharp/reference/biofsharp-bioseq.html) containing\n",
    "a series of [Nucleotides](https://csbiology.github.io/BioFSharp//reference/biofsharp-nucleotides-nucleotide.html). More\n",
    "can be read about BioFSharp containers [here](https://csbiology.github.io/BioFSharp//BioCollections.html).\n",
    "\n",
    "An example of accessing and manipulating the GenBankProvider genomic sequence using BioFSharp is provided below:\n",
    "\n"
   ]
  }
,
  {
   "cell_type": "code",
   "metadata": {
    "dotnet_interactive": {
     "language": "fsharp"
    },
    "polyglot_notebook": {
     "kernelName": "fsharp"
    }
   },
   "execution_count": 7, "outputs": [
          {
           "data": {
            "text/plain": ["seq [A; T; G; A; ...]"]
        },
           "execution_count": 7,
           "metadata": {},
           "output_type": "execute_result"
          }],
   "source": [
    "// Extract the BioFSharp BioSeq.\n",
    "let sequence = genome.Sequence\n",
    "\n",
    "// Display the sequence type.\n",
    "printf \"%A\" sequence\n"
   ]
  }
,
  {
   "cell_type": "code",
   "metadata": {
    "dotnet_interactive": {
     "language": "fsharp"
    },
    "polyglot_notebook": {
     "kernelName": "fsharp"
    }
   },
   "execution_count": 8, "outputs": [
          {
           "data": {
            "text/plain": ["seq [Tyr; Phe; Leu; Ter; ...]"]
        },
           "execution_count": 8,
           "metadata": {},
           "output_type": "execute_result"
          }],
   "source": [
    "// Take the complement, then transcribe and translate the coding strand.\n",
    "sequence\n",
    "|\u003e BioSeq.complement\n",
    "|\u003e BioSeq.transcribeCodingStrand\n",
    "|\u003e BioSeq.translate 0\n"
   ]
  }
,
  {
   "cell_type": "markdown",
   "metadata": {},
   
   "source": [
    "## Wildcard Operators\n",
    "\n",
    "Wildcard operators are supported in both the Species and Accession provided to the GenBankProvider. By using asterisks \"*\"\n",
    "at the end of a Species or Accession name, species or accessions starting with the provided pattern will be matched.\n",
    "\n",
    "For example, we can get all **Staphylococcus** species starting with the letter \u0027c\u0027 and assembly accesions starting with\n",
    "\u0027GCA_01\u0027:\n",
    "\n"
   ]
  }
,
  {
   "cell_type": "code",
   "metadata": {
    "dotnet_interactive": {
     "language": "fsharp"
    },
    "polyglot_notebook": {
     "kernelName": "fsharp"
    }
   },
   "execution_count": 9, "outputs": [
          {
           "data": {
            "text/plain": ["Staphylococcus capitis strain 18-857 NODE_1, whole genome shotgun sequence."]
        },
           "execution_count": 9,
           "metadata": {},
           "output_type": "execute_result"
          }],
   "source": [
    "// Define species name and GenBank assembly accession using wildcards.\n",
    "let [\u003cLiteral\u003e] SpeciesPattern = \"Staphylococcus c*\"\n",
    "let [\u003cLiteral\u003e] AccessionPattern = \"GCA_01*\"\n",
    "\n",
    "// Create GenBank type containing all species matching the species pattern.\n",
    "type SpeciesCollection = GenBankProvider\u003cSpeciesPattern, AccessionPattern\u003e\n",
    "\n",
    "// Select the species types.\n",
    "type Capitis = SpeciesCollection.``Staphylococcus capitis``\n",
    "type Cohnii = SpeciesCollection.``Staphylococcus cohnii``\n",
    "\n",
    "// Select assemblies.\n",
    "type Assembly1 = Capitis.``GCA_012926605.1``\n",
    "type Assembly2 = Capitis.``GCA_015645205.1``\n",
    "type Assembly3 = Cohnii.``GCA_013349225.1``\n",
    "type Assembly4 = Cohnii.``GCA_014884245.1``\n",
    "\n",
    "// Extract statically-typed genome data.\n",
    "let data = Assembly1.Genome()\n",
    "\n",
    "// Show the assembly\u0027s definition.\n",
    "match data.Metadata.Definition with\n",
    "| Some definition -\u003e printf \"%s\" definition\n",
    "| None -\u003e printf \"No definition provided.\"\n"
   ]
  }
,
  {
   "cell_type": "markdown",
   "metadata": {},
   
   "source": [
    "The Accession parameter can also be omitted from the GenBankProvider. In this case, all assemblies for the given species will\n",
    "be matched. For example:\n",
    "\n"
   ]
  }
,
  {
   "cell_type": "code",
   "metadata": {
    "dotnet_interactive": {
     "language": "fsharp"
    },
    "polyglot_notebook": {
     "kernelName": "fsharp"
    }
   },
   "execution_count": 10, "outputs": [
          {
           "data": {
            "text/plain": ["KQ957361"]
        },
           "execution_count": 10,
           "metadata": {},
           "output_type": "execute_result"
          }],
   "source": [
    "// Define species name.\n",
    "let [\u003cLiteral\u003e] SpeciesName = \"Staphylococcus lugdunensis\"\n",
    "\n",
    "// Create GenBank type containing all assemblies for the species.\n",
    "type Assemblies = GenBankProvider\u003cSpeciesName\u003e\n",
    "\n",
    "// Select assemblies.\n",
    "type Assembly = Assemblies.``GCA_001546615.1``\n",
    "\n",
    "// Show the assembly\u0027s primary accession.\n",
    "match (Assembly.Genome()).Metadata.Accession with\n",
    "| Some accession -\u003e match accession.Primary with\n",
    "                    | Some primary -\u003e printf \"%s\" primary\n",
    "                    | None -\u003e printf \"No primary accession provided.\"\n",
    "| None -\u003e printf \"No accession provided.\"\n"
   ]
  }
 ],
 "metadata": {
  "kernelspec": {
   "display_name": ".NET (F#)",
   "language": "F#",
   "name": ".net-fsharp"
  },
  "language_info": {
   "file_extension": ".fs",
   "mimetype": "text/x-fsharp",
   "name": "polyglot-notebook",
   "pygments_lexer": "fsharp"
  },
  "polyglot_notebook": {
   "kernelInfo": {
    "defaultKernelName": "fsharp",
    "items": [
     {
      "aliases": [],
      "languageName": "fsharp",
      "name": "fsharp"
     }
    ]
   }
  }
 },
 "nbformat": 4,
 "nbformat_minor": 2
}

